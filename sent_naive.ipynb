{
 "cells": [
  {
   "cell_type": "code",
   "execution_count": 41,
   "id": "ca8851cc",
   "metadata": {},
   "outputs": [
    {
     "name": "stderr",
     "output_type": "stream",
     "text": [
      "/var/folders/c6/kh1v5smn18l3tbcsjpvvqv1h0000gn/T/ipykernel_684/3333451271.py:6: DtypeWarning: Columns (0,1) have mixed types. Specify dtype option on import or set low_memory=False.\n",
      "  df = pd.read_csv(file_path, header=None, encoding='latin1', names=column_names)\n"
     ]
    }
   ],
   "source": [
    "import pandas as pd\n",
    "# Load the dataset\n",
    "file_path = 'training.1600000.processed.noemoticon.csv'\n",
    "column_names = ['sentiment', 'id', 'date', 'query', 'user', 'text']\n",
    "try:\n",
    "    df = pd.read_csv(file_path, header=None, encoding='latin1', names=column_names)\n",
    "except FileNotFoundError:\n",
    "    print(\"Dataset file not found.\")\n",
    "    exit()\n",
    "except Exception as e:\n",
    "    print(f\"Error loading dataset: {e}\")\n",
    "    exit()\n"
   ]
  },
  {
   "cell_type": "code",
   "execution_count": 42,
   "id": "260ad0e6",
   "metadata": {},
   "outputs": [
    {
     "name": "stderr",
     "output_type": "stream",
     "text": [
      "/var/folders/c6/kh1v5smn18l3tbcsjpvvqv1h0000gn/T/ipykernel_684/3926364913.py:5: FutureWarning: Downcasting behavior in `replace` is deprecated and will be removed in a future version. To retain the old behavior, explicitly call `result.infer_objects(copy=False)`. To opt-in to the future behavior, set `pd.set_option('future.no_silent_downcasting', True)`\n",
      "  df['sentiment'] = df['sentiment'].replace('0', 0)\n"
     ]
    }
   ],
   "source": [
    "# حذف ردیف با مقدار اشتباه\n",
    "df = df[df['sentiment'].isin(['0', '4'])]\n",
    "\n",
    "# تبدیل مقادیر رشته‌ای '0' و '4' به عدد صحیح 0 و 4\n",
    "df['sentiment'] = df['sentiment'].replace('0', 0)\n",
    "df['sentiment'] = df['sentiment'].replace('4', 4)\n",
    "\n",
    "# تبدیل کل ستون 'sentiment' به نوع داده integer\n",
    "df['sentiment'] = pd.to_numeric(df['sentiment'], errors='raise')"
   ]
  },
  {
   "cell_type": "code",
   "execution_count": 43,
   "id": "79811a65",
   "metadata": {},
   "outputs": [
    {
     "name": "stdout",
     "output_type": "stream",
     "text": [
      "Sample DataFrame after converting to lowercase:\n",
      "                                                text  \\\n",
      "1  is upset that he can't update his Facebook by ...   \n",
      "2  @Kenichan I dived many times for the ball. Man...   \n",
      "3    my whole body feels itchy and like its on fire    \n",
      "4  @nationwideclass no, it's not behaving at all....   \n",
      "5                      @Kwesidei not the whole crew    \n",
      "\n",
      "                                          text_lower  \n",
      "1  is upset that he can't update his facebook by ...  \n",
      "2  @kenichan i dived many times for the ball. man...  \n",
      "3    my whole body feels itchy and like its on fire   \n",
      "4  @nationwideclass no, it's not behaving at all....  \n",
      "5                      @kwesidei not the whole crew   \n"
     ]
    }
   ],
   "source": [
    "# Convert text to lowercase\n",
    "df['text_lower'] = df['text'].str.lower()\n",
    "print(\"Sample DataFrame after converting to lowercase:\")\n",
    "print(df[['text', 'text_lower']].head())"
   ]
  },
  {
   "cell_type": "code",
   "execution_count": 44,
   "id": "54ca1c14",
   "metadata": {},
   "outputs": [],
   "source": [
    "import string\n",
    "# Remove punctuation\n",
    "punctuation = string.punctuation\n",
    "\n",
    "def remove_punctuation(text):\n",
    "    translator = str.maketrans('', '', punctuation)\n",
    "    return text.translate(translator)"
   ]
  },
  {
   "cell_type": "code",
   "execution_count": 45,
   "id": "b34a2bfb",
   "metadata": {},
   "outputs": [
    {
     "name": "stdout",
     "output_type": "stream",
     "text": [
      "\n",
      "Sample DataFrame after removing punctuation:\n",
      "                                          text_lower  \\\n",
      "1  is upset that he can't update his facebook by ...   \n",
      "2  @kenichan i dived many times for the ball. man...   \n",
      "3    my whole body feels itchy and like its on fire    \n",
      "4  @nationwideclass no, it's not behaving at all....   \n",
      "5                      @kwesidei not the whole crew    \n",
      "\n",
      "                            text_without_punctuation  \n",
      "1  is upset that he cant update his facebook by t...  \n",
      "2  kenichan i dived many times for the ball manag...  \n",
      "3    my whole body feels itchy and like its on fire   \n",
      "4  nationwideclass no its not behaving at all im ...  \n",
      "5                       kwesidei not the whole crew   \n"
     ]
    }
   ],
   "source": [
    "df['text_without_punctuation'] = df['text_lower'].apply(remove_punctuation)\n",
    "print(\"\\nSample DataFrame after removing punctuation:\")\n",
    "print(df[['text_lower', 'text_without_punctuation']].head())"
   ]
  },
  {
   "cell_type": "code",
   "execution_count": 47,
   "id": "11f9882e",
   "metadata": {},
   "outputs": [
    {
     "name": "stdout",
     "output_type": "stream",
     "text": [
      "شکل ماتریس ویژگی TF-IDF: (131071, 114067)\n",
      "تعداد ویژگی‌ها (اندازه واژگان): 114067\n",
      "نمونه‌ای از ویژگی‌های تبدیل شده (به صورت sparse matrix):\n",
      "<Compressed Sparse Row sparse matrix of dtype 'float64'\n",
      "\twith 69 stored elements and shape (5, 114067)>\n",
      "  Coords\tValues\n",
      "  (0, 50439)\t0.11036684136121382\n",
      "  (0, 106172)\t0.2621207295151251\n",
      "  (0, 99587)\t0.13470245050605564\n",
      "  (0, 41545)\t0.19564633891370647\n",
      "  (0, 17037)\t0.15064788544230587\n",
      "  (0, 106053)\t0.2734398809456602\n",
      "  (0, 42812)\t0.21405361227602984\n",
      "  (0, 32914)\t0.2731692907813496\n",
      "  (0, 16361)\t0.1971530196585546\n",
      "  (0, 99439)\t0.3420433926326614\n",
      "  (0, 50622)\t0.11697862421483782\n",
      "  (0, 6478)\t0.10538030093613089\n",
      "  (0, 65804)\t0.23765702595734384\n",
      "  (0, 23311)\t0.2493533943177669\n",
      "  (0, 8317)\t0.18907116088369239\n",
      "  (0, 84685)\t0.33399152864890724\n",
      "  (0, 88287)\t0.18697104494029865\n",
      "  (0, 101957)\t0.15508896905381747\n",
      "  (0, 5743)\t0.23517928732437446\n",
      "  (0, 12968)\t0.28958038212268006\n",
      "  (1, 55564)\t0.40104315066541396\n",
      "  (1, 27460)\t0.40104315066541396\n",
      "  (1, 63084)\t0.20975489531131258\n",
      "  (1, 101373)\t0.21655543800815044\n",
      "  (1, 35359)\t0.10824749886549398\n",
      "  :\t:\n",
      "  (2, 73922)\t0.1832840616783198\n",
      "  (2, 34430)\t0.4367637382372365\n",
      "  (3, 17037)\t0.15696609514583884\n",
      "  (3, 50757)\t0.14593117873124362\n",
      "  (3, 70162)\t0.48233469441292576\n",
      "  (3, 71822)\t0.15279948891950118\n",
      "  (3, 72311)\t0.13666163962386566\n",
      "  (3, 11591)\t0.42702962907958797\n",
      "  (3, 8770)\t0.1439531101645802\n",
      "  (3, 5358)\t0.320220426731068\n",
      "  (3, 48950)\t0.1270810214795664\n",
      "  (3, 62227)\t0.27505531841731395\n",
      "  (3, 109880)\t0.18836830255506828\n",
      "  (3, 5876)\t0.17390197706463076\n",
      "  (3, 42193)\t0.19156258850776128\n",
      "  (3, 11269)\t0.2219948033833613\n",
      "  (3, 88943)\t0.18914321769316317\n",
      "  (3, 112974)\t0.1354814131439789\n",
      "  (3, 74956)\t0.2005431636007383\n",
      "  (3, 100203)\t0.1895299170544521\n",
      "  (4, 99685)\t0.1388355915109811\n",
      "  (4, 109797)\t0.3842445398222044\n",
      "  (4, 72311)\t0.20228957914940968\n",
      "  (4, 57292)\t0.7139624741112114\n",
      "  (4, 23028)\t0.531429509789559\n",
      "\n",
      "نمونه‌ای از نام ویژگی‌ها (کلمات واژگان): ['00' '000' '0000' '0000000000' '000s' '001' '0010' '0015' '001quot' '004'\n",
      " '007' '008' '00ga' '00s' '00where' '01' '0105' '01500' '016' '017']\n"
     ]
    }
   ],
   "source": [
    "from sklearn.feature_extraction.text import TfidfVectorizer\n",
    "\n",
    "# ایجاد یک شیء از TfidfVectorizer\n",
    "tfidf_vectorizer = TfidfVectorizer()\n",
    "\n",
    "# آموزش و تبدیل متن پیش‌پردازش شده به ماتریس ویژگی TF-IDF **روی متن بدون علائم نگارشی**\n",
    "X = tfidf_vectorizer.fit_transform(df['text_without_punctuation'])\n",
    "\n",
    "# حالا X شامل ماتریس ویژگی TF-IDF برای توییت‌های شماست\n",
    "print(\"شکل ماتریس ویژگی TF-IDF:\", X.shape)\n",
    "print(\"تعداد ویژگی‌ها (اندازه واژگان):\", len(tfidf_vectorizer.vocabulary_))\n",
    "print(\"نمونه‌ای از ویژگی‌های تبدیل شده (به صورت sparse matrix):\")\n",
    "print(X[:5])\n",
    "\n",
    "# برای اینکه بفهمیم هر ستون در ماتریس X مربوط به چه کلمه‌ای است:\n",
    "feature_names = tfidf_vectorizer.get_feature_names_out()\n",
    "print(\"\\nنمونه‌ای از نام ویژگی‌ها (کلمات واژگان):\", feature_names[:20])"
   ]
  },
  {
   "cell_type": "code",
   "execution_count": 48,
   "id": "037afe51",
   "metadata": {},
   "outputs": [
    {
     "name": "stdout",
     "output_type": "stream",
     "text": [
      "شکل X_train: (104856, 114067)\n",
      "شکل X_test: (26215, 114067)\n",
      "شکل y_train: (104856,)\n",
      "شکل y_test: (26215,)\n"
     ]
    }
   ],
   "source": [
    "from sklearn.model_selection import train_test_split\n",
    "\n",
    "# فرض کنید X ماتریس ویژگی TF-IDF و y ستون احساسات (sentiment) باشه\n",
    "# اگر ستون احساسات شما اسم دیگه‌ای داره، اون رو جایگزین کنید\n",
    "y = df['sentiment']\n",
    "\n",
    "# تقسیم داده‌ها به آموزش و تست\n",
    "X_train, X_test, y_train, y_test = train_test_split(X, y, test_size=0.2, random_state=42)\n",
    "\n",
    "print(\"شکل X_train:\", X_train.shape)\n",
    "print(\"شکل X_test:\", X_test.shape)\n",
    "print(\"شکل y_train:\", y_train.shape)\n",
    "print(\"شکل y_test:\", y_test.shape)"
   ]
  },
  {
   "cell_type": "code",
   "execution_count": 50,
   "id": "a0a1e8be",
   "metadata": {},
   "outputs": [
    {
     "name": "stdout",
     "output_type": "stream",
     "text": [
      "مدل Naive Bayes با موفقیت آموزش داده شد.\n"
     ]
    }
   ],
   "source": [
    "from sklearn.naive_bayes import MultinomialNB\n",
    "\n",
    "# ایجاد یک شیء از مدل MultinomialNB\n",
    "naive_bayes_model = MultinomialNB()\n",
    "\n",
    "# آموزش مدل با استفاده از داده‌های آموزشی\n",
    "naive_bayes_model.fit(X_train, y_train)\n",
    "\n",
    "print(\"مدل Naive Bayes با موفقیت آموزش داده شد.\")"
   ]
  }
 ],
 "metadata": {
  "kernelspec": {
   "display_name": "Python 3",
   "language": "python",
   "name": "python3"
  },
  "language_info": {
   "codemirror_mode": {
    "name": "ipython",
    "version": 3
   },
   "file_extension": ".py",
   "mimetype": "text/x-python",
   "name": "python",
   "nbconvert_exporter": "python",
   "pygments_lexer": "ipython3",
   "version": "3.11.3"
  }
 },
 "nbformat": 4,
 "nbformat_minor": 5
}
