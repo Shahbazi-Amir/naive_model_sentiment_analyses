{
 "cells": [
  {
   "cell_type": "code",
   "execution_count": 54,
   "id": "ca8851cc",
   "metadata": {},
   "outputs": [
    {
     "name": "stderr",
     "output_type": "stream",
     "text": [
      "/var/folders/c6/kh1v5smn18l3tbcsjpvvqv1h0000gn/T/ipykernel_684/3333451271.py:6: DtypeWarning: Columns (0,1) have mixed types. Specify dtype option on import or set low_memory=False.\n",
      "  df = pd.read_csv(file_path, header=None, encoding='latin1', names=column_names)\n"
     ]
    }
   ],
   "source": [
    "import pandas as pd\n",
    "# Load the dataset\n",
    "file_path = 'training.1600000.processed.noemoticon.csv'\n",
    "column_names = ['sentiment', 'id', 'date', 'query', 'user', 'text']\n",
    "try:\n",
    "    df = pd.read_csv(file_path, header=None, encoding='latin1', names=column_names)\n",
    "except FileNotFoundError:\n",
    "    print(\"Dataset file not found.\")\n",
    "    exit()\n",
    "except Exception as e:\n",
    "    print(f\"Error loading dataset: {e}\")\n",
    "    exit()\n"
   ]
  },
  {
   "cell_type": "code",
   "execution_count": 55,
   "id": "260ad0e6",
   "metadata": {},
   "outputs": [
    {
     "name": "stderr",
     "output_type": "stream",
     "text": [
      "/var/folders/c6/kh1v5smn18l3tbcsjpvvqv1h0000gn/T/ipykernel_684/3926364913.py:5: FutureWarning: Downcasting behavior in `replace` is deprecated and will be removed in a future version. To retain the old behavior, explicitly call `result.infer_objects(copy=False)`. To opt-in to the future behavior, set `pd.set_option('future.no_silent_downcasting', True)`\n",
      "  df['sentiment'] = df['sentiment'].replace('0', 0)\n"
     ]
    }
   ],
   "source": [
    "# حذف ردیف با مقدار اشتباه\n",
    "df = df[df['sentiment'].isin(['0', '4'])]\n",
    "\n",
    "# تبدیل مقادیر رشته‌ای '0' و '4' به عدد صحیح 0 و 4\n",
    "df['sentiment'] = df['sentiment'].replace('0', 0)\n",
    "df['sentiment'] = df['sentiment'].replace('4', 4)\n",
    "\n",
    "# تبدیل کل ستون 'sentiment' به نوع داده integer\n",
    "df['sentiment'] = pd.to_numeric(df['sentiment'], errors='raise')"
   ]
  },
  {
   "cell_type": "code",
   "execution_count": null,
   "id": "79811a65",
   "metadata": {},
   "outputs": [],
   "source": [
    "# Convert text to lowercase\n",
    "df['text_lower'] = df['text'].str.lower()\n",
    "print(\"Sample DataFrame after converting to lowercase:\")\n",
    "print(df[['text', 'text_lower']].head())"
   ]
  },
  {
   "cell_type": "code",
   "execution_count": 57,
   "id": "54ca1c14",
   "metadata": {},
   "outputs": [],
   "source": [
    "import string\n",
    "# Remove punctuation\n",
    "punctuation = string.punctuation\n",
    "\n",
    "def remove_punctuation(text):\n",
    "    translator = str.maketrans('', '', punctuation)\n",
    "    return text.translate(translator)"
   ]
  },
  {
   "cell_type": "code",
   "execution_count": null,
   "id": "b34a2bfb",
   "metadata": {},
   "outputs": [],
   "source": [
    "df['text_without_punctuation'] = df['text_lower'].apply(remove_punctuation)\n",
    "print(\"\\nSample DataFrame after removing punctuation:\")\n",
    "print(df[['text_lower', 'text_without_punctuation']].head())"
   ]
  },
  {
   "cell_type": "code",
   "execution_count": 59,
   "id": "037afe51",
   "metadata": {},
   "outputs": [
    {
     "name": "stdout",
     "output_type": "stream",
     "text": [
      "شکل X_train: (104856, 114067)\n",
      "شکل X_test: (26215, 114067)\n",
      "شکل y_train: (104856,)\n",
      "شکل y_test: (26215,)\n"
     ]
    }
   ],
   "source": [
    "from sklearn.model_selection import train_test_split\n",
    "\n",
    "# فرض کنید X ماتریس ویژگی TF-IDF و y ستون احساسات (sentiment) باشه\n",
    "# اگر ستون احساسات شما اسم دیگه‌ای داره، اون رو جایگزین کنید\n",
    "y = df['sentiment']\n",
    "\n",
    "# تقسیم داده‌ها به آموزش و تست\n",
    "X_train, X_test, y_train, y_test = train_test_split(X, y, test_size=0.2, random_state=42)\n",
    "\n",
    "print(\"شکل X_train:\", X_train.shape)\n",
    "print(\"شکل X_test:\", X_test.shape)\n",
    "print(\"شکل y_train:\", y_train.shape)\n",
    "print(\"شکل y_test:\", y_test.shape)"
   ]
  },
  {
   "cell_type": "code",
   "execution_count": null,
   "id": "11f9882e",
   "metadata": {},
   "outputs": [],
   "source": [
    "from sklearn.feature_extraction.text import TfidfVectorizer\n",
    "\n",
    "# ایجاد یک شیء از TfidfVectorizer\n",
    "tfidf_vectorizer = TfidfVectorizer()\n",
    "\n",
    "# آموزش و تبدیل متن پیش‌پردازش شده به ماتریس ویژگی TF-IDF **روی متن بدون علائم نگارشی**\n",
    "X = tfidf_vectorizer.fit_transform(df['text_without_punctuation'])\n",
    "\n",
    "# حالا X شامل ماتریس ویژگی TF-IDF برای توییت‌های شماست\n",
    "print(\"شکل ماتریس ویژگی TF-IDF:\", X.shape)\n",
    "print(\"تعداد ویژگی‌ها (اندازه واژگان):\", len(tfidf_vectorizer.vocabulary_))\n",
    "print(\"نمونه‌ای از ویژگی‌های تبدیل شده (به صورت sparse matrix):\")\n",
    "print(X[:5])\n",
    "\n",
    "# برای اینکه بفهمیم هر ستون در ماتریس X مربوط به چه کلمه‌ای است:\n",
    "feature_names = tfidf_vectorizer.get_feature_names_out()\n",
    "print(\"\\nنمونه‌ای از نام ویژگی‌ها (کلمات واژگان):\", feature_names[:20])"
   ]
  },
  {
   "cell_type": "code",
   "execution_count": 61,
   "id": "a0a1e8be",
   "metadata": {},
   "outputs": [
    {
     "name": "stdout",
     "output_type": "stream",
     "text": [
      "مدل Naive Bayes با موفقیت آموزش داده شد.\n"
     ]
    }
   ],
   "source": [
    "from sklearn.naive_bayes import MultinomialNB\n",
    "\n",
    "# ایجاد یک شیء از مدل MultinomialNB\n",
    "naive_bayes_model = MultinomialNB()\n",
    "\n",
    "# آموزش مدل با استفاده از داده‌های آموزشی\n",
    "naive_bayes_model.fit(X_train, y_train)\n",
    "\n",
    "print(\"مدل Naive Bayes با موفقیت آموزش داده شد.\")"
   ]
  },
  {
   "cell_type": "code",
   "execution_count": 63,
   "id": "fcc3b34f",
   "metadata": {},
   "outputs": [
    {
     "name": "stdout",
     "output_type": "stream",
     "text": [
      "دقت مدل Naive Bayes روی داده‌های آزمایشی: 1.0000\n"
     ]
    }
   ],
   "source": [
    "from sklearn.metrics import accuracy_score\n",
    "\n",
    "# پیش‌بینی برچسب‌ها برای داده‌های آزمایشی\n",
    "y_pred = naive_bayes_model.predict(X_test)\n",
    "\n",
    "# محاسبه دقت مدل\n",
    "accuracy = accuracy_score(y_test, y_pred)\n",
    "print(f\"دقت مدل Naive Bayes روی داده‌های آزمایشی: {accuracy:.4f}\")"
   ]
  },
  {
   "cell_type": "code",
   "execution_count": 64,
   "id": "c1dd7b87",
   "metadata": {},
   "outputs": [
    {
     "name": "stdout",
     "output_type": "stream",
     "text": [
      "دقت مدل Naive Bayes روی داده‌های آزمایشی: 1.0000\n"
     ]
    },
    {
     "data": {
      "image/png": "[encoded data removed]",
      "text/plain": [
       "<Figure size 600x400 with 1 Axes>"
      ]
     },
     "metadata": {},
     "output_type": "display_data"
    }
   ],
   "source": [
    "import matplotlib.pyplot as plt\n",
    "from sklearn.metrics import accuracy_score\n",
    "\n",
    "# پیش‌بینی برچسب‌ها برای داده‌های آزمایشی\n",
    "y_pred = naive_bayes_model.predict(X_test)\n",
    "\n",
    "# محاسبه دقت مدل\n",
    "accuracy = accuracy_score(y_test, y_pred)\n",
    "print(f\"دقت مدل Naive Bayes روی داده‌های آزمایشی: {accuracy:.4f}\")\n",
    "\n",
    "# ایجاد نمودار میله‌ای برای دقت\n",
    "plt.figure(figsize=(6, 4))\n",
    "plt.bar(['Accuracy'], [accuracy], color='skyblue')\n",
    "plt.ylabel('مقدار')\n",
    "plt.title('دقت مدل Naive Bayes')\n",
    "plt.ylim(0, 1)  # محدوده محور y را بین 0 و 1 تنظیم می‌کنیم\n",
    "plt.show()"
   ]
  },
  {
   "cell_type": "code",
   "execution_count": 65,
   "id": "afe68e15",
   "metadata": {},
   "outputs": [
    {
     "name": "stdout",
     "output_type": "stream",
     "text": [
      "              precision    recall  f1-score   support\n",
      "\n",
      "           0       1.00      1.00      1.00     26215\n",
      "\n",
      "    accuracy                           1.00     26215\n",
      "   macro avg       1.00      1.00      1.00     26215\n",
      "weighted avg       1.00      1.00      1.00     26215\n",
      "\n"
     ]
    }
   ],
   "source": [
    "from sklearn.metrics import classification_report\n",
    "\n",
    "print(classification_report(y_test, y_pred))"
   ]
  }
 ],
 "metadata": {
  "kernelspec": {
   "display_name": "Python 3",
   "language": "python",
   "name": "python3"
  },
  "language_info": {
   "codemirror_mode": {
    "name": "ipython",
    "version": 3
   },
   "file_extension": ".py",
   "mimetype": "text/x-python",
   "name": "python",
   "nbconvert_exporter": "python",
   "pygments_lexer": "ipython3",
   "version": "3.11.3"
  }
 },
 "nbformat": 4,
 "nbformat_minor": 5
}
