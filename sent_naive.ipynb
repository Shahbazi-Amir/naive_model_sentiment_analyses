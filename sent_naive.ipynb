{
 "cells": [
  {
   "cell_type": "code",
   "execution_count": 12,
   "id": "ca8851cc",
   "metadata": {},
   "outputs": [
    {
     "name": "stderr",
     "output_type": "stream",
     "text": [
      "/var/folders/c6/kh1v5smn18l3tbcsjpvvqv1h0000gn/T/ipykernel_19643/424644346.py:8: DtypeWarning: Columns (0,1) have mixed types. Specify dtype option on import or set low_memory=False.\n",
      "  df = pd.read_csv(file_path, header=None, encoding='latin1', names=column_names)\n"
     ]
    }
   ],
   "source": [
    "import pandas as pd\n",
    "\n",
    "\n",
    "# Load the dataset\n",
    "file_path = 'training.1600000.processed.noemoticon.csv'\n",
    "column_names = ['sentiment', 'id', 'date', 'query', 'user', 'text']\n",
    "try:\n",
    "    df = pd.read_csv(file_path, header=None, encoding='latin1', names=column_names)\n",
    "except FileNotFoundError:\n",
    "    print(\"Dataset file not found.\")\n",
    "    exit()\n",
    "except Exception as e:\n",
    "    print(f\"Error loading dataset: {e}\")\n",
    "    exit()\n",
    "\n",
    "\n"
   ]
  },
  {
   "cell_type": "code",
   "execution_count": 13,
   "id": "79811a65",
   "metadata": {},
   "outputs": [
    {
     "name": "stdout",
     "output_type": "stream",
     "text": [
      "Sample DataFrame after converting to lowercase:\n",
      "                                                text  \\\n",
      "0                                 text of the tweet    \n",
      "1  is upset that he can't update his Facebook by ...   \n",
      "2  @Kenichan I dived many times for the ball. Man...   \n",
      "3    my whole body feels itchy and like its on fire    \n",
      "4  @nationwideclass no, it's not behaving at all....   \n",
      "\n",
      "                                          text_lower  \n",
      "0                                 text of the tweet   \n",
      "1  is upset that he can't update his facebook by ...  \n",
      "2  @kenichan i dived many times for the ball. man...  \n",
      "3    my whole body feels itchy and like its on fire   \n",
      "4  @nationwideclass no, it's not behaving at all....  \n"
     ]
    }
   ],
   "source": [
    "# Convert text to lowercase\n",
    "df['text_lower'] = df['text'].str.lower()\n",
    "print(\"Sample DataFrame after converting to lowercase:\")\n",
    "print(df[['text', 'text_lower']].head())"
   ]
  },
  {
   "cell_type": "code",
   "execution_count": 14,
   "id": "54ca1c14",
   "metadata": {},
   "outputs": [],
   "source": [
    "import string\n",
    "# Remove punctuation\n",
    "punctuation = string.punctuation\n",
    "\n",
    "def remove_punctuation(text):\n",
    "    translator = str.maketrans('', '', punctuation)\n",
    "    return text.translate(translator)"
   ]
  },
  {
   "cell_type": "code",
   "execution_count": 15,
   "id": "b34a2bfb",
   "metadata": {},
   "outputs": [
    {
     "name": "stdout",
     "output_type": "stream",
     "text": [
      "\n",
      "Sample DataFrame after removing punctuation:\n",
      "                                          text_lower  \\\n",
      "0                                 text of the tweet    \n",
      "1  is upset that he can't update his facebook by ...   \n",
      "2  @kenichan i dived many times for the ball. man...   \n",
      "3    my whole body feels itchy and like its on fire    \n",
      "4  @nationwideclass no, it's not behaving at all....   \n",
      "\n",
      "                            text_without_punctuation  \n",
      "0                                 text of the tweet   \n",
      "1  is upset that he cant update his facebook by t...  \n",
      "2  kenichan i dived many times for the ball manag...  \n",
      "3    my whole body feels itchy and like its on fire   \n",
      "4  nationwideclass no its not behaving at all im ...  \n"
     ]
    }
   ],
   "source": [
    "df['text_without_punctuation'] = df['text_lower'].apply(remove_punctuation)\n",
    "print(\"\\nSample DataFrame after removing punctuation:\")\n",
    "print(df[['text_lower', 'text_without_punctuation']].head())"
   ]
  },
  {
   "cell_type": "code",
   "execution_count": 22,
   "id": "6268bfd8",
   "metadata": {},
   "outputs": [],
   "source": [
    "import string\n",
    "import nltk\n",
    "from nltk.corpus import stopwords\n",
    "# Download stopwords if not already downloaded\n",
    "try:\n",
    "    stopwords.words('english')\n",
    "except LookupError:\n",
    "    nltk.download('stopwords')"
   ]
  },
  {
   "cell_type": "code",
   "execution_count": 23,
   "id": "f3d81e94",
   "metadata": {},
   "outputs": [
    {
     "name": "stdout",
     "output_type": "stream",
     "text": [
      "تعداد stop words انگلیسی: 198\n",
      "نمونه‌ای از stop words: ['do', \"she's\", \"doesn't\", 'y', 'in', \"isn't\", 'been', 'ma', 'he', 'because']\n"
     ]
    }
   ],
   "source": [
    "# Get the set of English stop words\n",
    "stop_words = set(stopwords.words('english'))\n",
    "print(f\"تعداد stop words انگلیسی: {len(stop_words)}\")\n",
    "print(f\"نمونه‌ای از stop words: {list(stop_words)[:10]}\")"
   ]
  },
  {
   "cell_type": "code",
   "execution_count": 24,
   "id": "03d46004",
   "metadata": {},
   "outputs": [],
   "source": [
    "# Function to remove stop words from text (using a for loop)\n",
    "def remove_stopwords_loop(text):\n",
    "    words = text.split()\n",
    "    filtered_words = []\n",
    "    for word in words:\n",
    "        if word.lower() not in stop_words:\n",
    "            filtered_words.append(word)\n",
    "    return \" \".join(filtered_words)"
   ]
  },
  {
   "cell_type": "code",
   "execution_count": 27,
   "id": "cdbb53f4",
   "metadata": {},
   "outputs": [],
   "source": [
    "df['text_without_stopwords'] = df['text_without_punctuation'].apply(remove_stopwords_loop)"
   ]
  },
  {
   "cell_type": "code",
   "execution_count": 28,
   "id": "54d9bdc9",
   "metadata": {},
   "outputs": [
    {
     "name": "stdout",
     "output_type": "stream",
     "text": [
      "0                                           text tweet\n",
      "1    upset cant update facebook texting might cry r...\n",
      "2    kenichan dived many times ball managed save 50...\n",
      "3                     whole body feels itchy like fire\n",
      "4             nationwideclass behaving im mad cant see\n",
      "Name: text_without_stopwords, dtype: object\n"
     ]
    }
   ],
   "source": [
    "print(df['text_without_stopwords'].head())"
   ]
  },
  {
   "cell_type": "code",
   "execution_count": 29,
   "id": "66da342c",
   "metadata": {},
   "outputs": [
    {
     "name": "stdout",
     "output_type": "stream",
     "text": [
      "0                                                 text tweet\n",
      "1          upset cant update facebook texting might cry r...\n",
      "2          kenichan dived many times ball managed save 50...\n",
      "3                           whole body feels itchy like fire\n",
      "4                   nationwideclass behaving im mad cant see\n",
      "                                 ...                        \n",
      "1048568                            grandma making dinenr mum\n",
      "1048569        midmorning snack time bowl cheese noodles yum\n",
      "1048570    shadela say like terminiator movies comes like...\n",
      "1048571                  destinyhope92 im great thaanks wbuu\n",
      "1048572                           cant wait til date weekend\n",
      "Name: text_without_stopwords, Length: 1048573, dtype: object\n"
     ]
    }
   ],
   "source": [
    "print(df['text_without_stopwords'])"
   ]
  },
  {
   "cell_type": "code",
   "execution_count": 30,
   "id": "e922e116",
   "metadata": {},
   "outputs": [],
   "source": [
    "df.to_csv('your_processed_data.csv', index=False)"
   ]
  }
 ],
 "metadata": {
  "kernelspec": {
   "display_name": "Python 3",
   "language": "python",
   "name": "python3"
  },
  "language_info": {
   "codemirror_mode": {
    "name": "ipython",
    "version": 3
   },
   "file_extension": ".py",
   "mimetype": "text/x-python",
   "name": "python",
   "nbconvert_exporter": "python",
   "pygments_lexer": "ipython3",
   "version": "3.11.3"
  }
 },
 "nbformat": 4,
 "nbformat_minor": 5
}
